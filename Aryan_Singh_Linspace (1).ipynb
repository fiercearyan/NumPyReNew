{
  "nbformat": 4,
  "nbformat_minor": 0,
  "metadata": {
    "colab": {
      "name": "Aryan Singh - Linspace.ipynb",
      "provenance": []
    },
    "kernelspec": {
      "name": "python3",
      "display_name": "Python 3"
    }
  },
  "cells": [
    {
      "cell_type": "code",
      "metadata": {
        "id": "N3ix7zjvKfBm",
        "colab_type": "code",
        "outputId": "129ac8e1-7421-4d64-fb3f-9e276087392f",
        "colab": {
          "base_uri": "https://localhost:8080/",
          "height": 153
        }
      },
      "source": [
        "\n",
        "\n",
        "a=int(input('first number'))\n",
        "b=int(input('second number'))\n",
        "c=int(input('range number'))\n",
        "\n",
        "x=float((b-a)/(c-1))\n",
        "for i in range(c):\n",
        "      print (a+(i*x))\n"
      ],
      "execution_count": 0,
      "outputs": [
        {
          "output_type": "stream",
          "text": [
            "first number10\n",
            "second number0\n",
            "range number5\n",
            "10.0\n",
            "7.5\n",
            "5.0\n",
            "2.5\n",
            "0.0\n"
          ],
          "name": "stdout"
        }
      ]
    },
    {
      "cell_type": "code",
      "metadata": {
        "id": "0V27covsjYHL",
        "colab_type": "code",
        "colab": {}
      },
      "source": [
        ""
      ],
      "execution_count": 0,
      "outputs": []
    }
  ]
}