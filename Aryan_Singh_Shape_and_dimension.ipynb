{
  "nbformat": 4,
  "nbformat_minor": 0,
  "metadata": {
    "colab": {
      "name": "Aryan Singh - Shape-and-dimension.ipynb",
      "provenance": []
    },
    "kernelspec": {
      "name": "python3",
      "display_name": "Python 3"
    }
  },
  "cells": [
    {
      "cell_type": "markdown",
      "metadata": {
        "id": "KS3wCW3hFavq",
        "colab_type": "text"
      },
      "source": [
        "You have to write 2 functions after watching today's videos.\n",
        "\n",
        "1. The first function will accept a Numpy array and return it's shape.\n",
        "   Note:- You can't use the shape attribute\n",
        "   \n",
        "2. The second function will accept a Numpy array and return it's dimension.\n",
        "   Note:- You can't use the ndim attribute"
      ]
    },
    {
      "cell_type": "code",
      "metadata": {
        "id": "FVX4V9FmF8rt",
        "colab_type": "code",
        "colab": {}
      },
      "source": [
        "#Function\n",
        "\n",
        "def get_shape(arr,shape=()):\n",
        "  try:\n",
        "    if not isinstance(arr,np.ndarray):\n",
        "      return shape\n",
        "    if isinstance(arr[0],np.ndarray):\n",
        "      length=len(arr[0])\n",
        "      if not all(len(item)==length for item in arr):\n",
        "        msg='not all list have the same length'\n",
        "        raise ValueError(msg)\n",
        "\n",
        "# Write 1st function here\n",
        "\n",
        "    shape+=(len(arr), )\n",
        "    #recursion\n",
        "    shape=get_shape(arr[0],shape)\n",
        "  except IndexError:\n",
        "      return(0,)\n",
        "  return shape"
      ],
      "execution_count": 0,
      "outputs": []
    },
    {
      "cell_type": "code",
      "metadata": {
        "id": "R0KWz8gqGAXW",
        "colab_type": "code",
        "colab": {}
      },
      "source": [
        "# Write 2nd function here\n",
        "def dim(a):\n",
        "  return len(get_shape(a))\n"
      ],
      "execution_count": 0,
      "outputs": []
    },
    {
      "cell_type": "code",
      "metadata": {
        "id": "5xmTBXejGDeG",
        "colab_type": "code",
        "outputId": "2f0a4ca6-bc83-4bf5-b3ae-6e6d597bcbab",
        "colab": {
          "base_uri": "https://localhost:8080/",
          "height": 52
        }
      },
      "source": [
        "import numpy as np\n",
        "a1=np.array([[[[1,2],[2,3],[3,4]]]])\n",
        "print('shape',get_shape(a1))\n",
        "print('dimension',dim(a1))"
      ],
      "execution_count": 0,
      "outputs": [
        {
          "output_type": "stream",
          "text": [
            "shape (1, 1, 3, 2)\n",
            "dimension 4\n"
          ],
          "name": "stdout"
        }
      ]
    },
    {
      "cell_type": "code",
      "metadata": {
        "id": "y6uMGU48QeiA",
        "colab_type": "code",
        "colab": {}
      },
      "source": [
        ""
      ],
      "execution_count": 0,
      "outputs": []
    }
  ]
}