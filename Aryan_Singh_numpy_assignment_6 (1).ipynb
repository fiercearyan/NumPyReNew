{
  "nbformat": 4,
  "nbformat_minor": 0,
  "metadata": {
    "colab": {
      "name": "Aryan Singh - numpy-assignment-6.ipynb",
      "provenance": []
    },
    "kernelspec": {
      "name": "python3",
      "display_name": "Python 3"
    }
  },
  "cells": [
    {
      "cell_type": "code",
      "metadata": {
        "id": "6PAefYSKHONH",
        "colab_type": "code",
        "colab": {}
      },
      "source": [
        "# You have write a function which takes 2 numpy array as input and returns \"Hoga\" or \"Nahi Hoga\" \n",
        "# depending on if broadcasting is possible on those two arrays"
      ],
      "execution_count": 0,
      "outputs": []
    },
    {
      "cell_type": "code",
      "metadata": {
        "id": "LtPSvg-4HjEv",
        "colab_type": "code",
        "colab": {}
      },
      "source": [
        "# Write your logic here\n",
        "def hoga_ki_nahi(arr1,arr2):\n",
        "  try:\n",
        "    arr1+arr2\n",
        "  except ValueError:\n",
        "    return \"nahi hoga\"\n",
        "  else:\n",
        "    return \"Hoga\""
      ],
      "execution_count": 0,
      "outputs": []
    },
    {
      "cell_type": "code",
      "metadata": {
        "id": "BGp93pIEHsOG",
        "colab_type": "code",
        "outputId": "2fbddaba-dee0-44b1-cd56-d049abe8b95c",
        "colab": {
          "base_uri": "https://localhost:8080/",
          "height": 34
        }
      },
      "source": [
        "# Test your function here\n",
        "import numpy as np\n",
        "a1=np.arange(6).reshape(2,3)\n",
        "a2=np.arange(3)\n",
        "print(hoga_ki_nahi(a1,a2))"
      ],
      "execution_count": 0,
      "outputs": [
        {
          "output_type": "stream",
          "text": [
            "Hoga\n"
          ],
          "name": "stdout"
        }
      ]
    },
    {
      "cell_type": "code",
      "metadata": {
        "id": "jz_2U5LRH2xy",
        "colab_type": "code",
        "colab": {}
      },
      "source": [
        ""
      ],
      "execution_count": 0,
      "outputs": []
    }
  ]
}